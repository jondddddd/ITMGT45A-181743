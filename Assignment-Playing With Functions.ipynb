{
 "cells": [
  {
   "cell_type": "markdown",
   "metadata": {},
   "source": [
    "# 1\n",
    "1 point\n",
    "Write a function that takes the circumference of a circle as a parameter and returns the area of that circle.\n",
    "\n",
    "Note: Assume the value of pi is 3.1416"
   ]
  },
  {
   "cell_type": "code",
   "execution_count": 2,
   "metadata": {},
   "outputs": [
    {
     "name": "stdout",
     "output_type": "stream",
     "text": [
      "Put circumference of the circle\n",
      "50\n",
      "Area of circle is: 198.94321364909598\n"
     ]
    }
   ],
   "source": [
    "print(\"Put circumference of the circle\")\n",
    "x = float(input())\n",
    "y = 3.1416*((x/(2*3.1416))**2)\n",
    "print(\"Area of circle is:\", y)"
   ]
  },
  {
   "cell_type": "markdown",
   "metadata": {},
   "source": [
    "# 2 \n",
    "2 points\n",
    "Write a function that takes a 5-character string as a parameter and returns the string in reverse order.\n",
    "\n",
    "e.g. reverseString(\"Hello\") -> \"olleH\""
   ]
  },
  {
   "cell_type": "code",
   "execution_count": 7,
   "metadata": {},
   "outputs": [
    {
     "name": "stdout",
     "output_type": "stream",
     "text": [
      "Please type any five letter word\n",
      "hell\n",
      "this word is not 5 letters\n"
     ]
    }
   ],
   "source": [
    "print(\"Please type any five letter word\")\n",
    "\n",
    "x=str(input())\n",
    "if len(x) != 5:\n",
    "    print(x, \" is not a 5 letter word\")\n",
    "else:\n",
    "    print(x[::-1])"
   ]
  },
  {
   "cell_type": "markdown",
   "metadata": {},
   "source": [
    "# 3\n",
    "2 points\n",
    "Write a function that takes a positive integer as input and returns the sum of all positive integers smaller than and including the number itself.\n",
    "\n",
    "e.g. backAddition(5) -> 1 + 2 + 3 + 4 + 5 -> 15"
   ]
  },
  {
   "cell_type": "code",
   "execution_count": 8,
   "metadata": {},
   "outputs": [
    {
     "name": "stdout",
     "output_type": "stream",
     "text": [
      "10\n",
      "44\n"
     ]
    }
   ],
   "source": [
    "x = int(input())\n",
    "\n",
    "gg=[]\n",
    "while x>=0:\n",
    "    x=x-1\n",
    "    gg.append(x)\n",
    "    \n",
    "print(sum(gg))\n",
    "\n",
    "    "
   ]
  },
  {
   "cell_type": "markdown",
   "metadata": {},
   "source": [
    "# 4\n",
    "5 points (all or nothing)\n",
    "The sum of the squares of the first ten natural numbers is, 12 + 22 + ... + 102 = 385\n",
    "\n",
    "The square of the sum of the first ten natural numbers is, (1 + 2 + ... + 10)2 = 552 = 3025\n",
    "\n",
    "Hence the difference between the sum of the squares of the first ten natural numbers and the square of the sum is 3025 − 385 = 2640.\n",
    "\n",
    "Find the difference between the sum of the squares of the first one hundred natural numbers and the square of the sum.\n",
    "\n",
    "Show code that generates the answer."
   ]
  },
  {
   "cell_type": "code",
   "execution_count": 12,
   "metadata": {},
   "outputs": [
    {
     "name": "stdout",
     "output_type": "stream",
     "text": [
      "100\n",
      "338350.0\n",
      "25502500.0\n",
      "25164150.0\n"
     ]
    }
   ],
   "source": [
    "x=float(input())\n",
    "\n",
    "y = ((x*(x+1))*((2*x)+1))/6\n",
    "print(y)\n",
    "\n",
    "z = ((x*(x+1))/2)**2\n",
    "print(z)\n",
    "\n",
    "print(z-y)"
   ]
  },
  {
   "cell_type": "code",
   "execution_count": 4,
   "metadata": {},
   "outputs": [
    {
     "name": "stdout",
     "output_type": "stream",
     "text": [
      "338350\n",
      "25502500\n",
      "The difference between the sum of the squares of the first one hundred natural numbers and the square of the sum is  25164150\n"
     ]
    }
   ],
   "source": [
    "x=100\n",
    "\n",
    "y = ((x*(x+1))*((2*x)+1))//6\n",
    "print(y)\n",
    "\n",
    "z = ((x*(x+1))//2)**2\n",
    "print(z)\n",
    "\n",
    "print(\"The difference between the sum of the squares of the first one hundred natural numbers and the square of the sum is\",z-y)"
   ]
  },
  {
   "cell_type": "markdown",
   "metadata": {},
   "source": [
    "# 5\n",
    "5 points\n",
    "Write a function that allows a self-service Point of Sale system to give you the exact change when you pay in cash.\n",
    "\n",
    "The function should accept the number of cents entered by the caller of the function. It then should display the denominations of the coins that should be given to the buyer. The change should use as few coins as possible. Assume that the Point of Sale system is loaded with 1 cent, 5 cents, 10 cents, 25 cents and 1 peso coins.\n",
    "\n",
    "Write main program code that accepts the number of cents manually through user input and calls the function written above.\n",
    "\n",
    "Input: The program accepts one positive integer, cents, corresponding to the total change to be given by the Point of Sale system.\n",
    "\n",
    "Output: The number of 1 peso, 25 cents, 10 cents, 5 cents and 1 cent coins respectively. There should be one output per line.\n",
    "\n",
    "Sample Input 1:\n",
    "105\n",
    "\n",
    "Sample Output 1\n",
    "1\n",
    "0\n",
    "0\n",
    "1\n",
    "0\n",
    "\n",
    "Sample Input 2:\n",
    "69\n",
    "\n",
    "Sample Output 2:\n",
    "0\n",
    "2\n",
    "1\n",
    "1\n",
    "4"
   ]
  },
  {
   "cell_type": "code",
   "execution_count": 2,
   "metadata": {},
   "outputs": [
    {
     "name": "stdout",
     "output_type": "stream",
     "text": [
      "251\n",
      "2 , 1 peso/s\n",
      "2 , 25 cent/s\n",
      "0 , 10 cent/s\n",
      "0 , 5 cent/s\n",
      "1 1 cent/s\n"
     ]
    }
   ],
   "source": [
    "x = float(input())\n",
    "p = 0\n",
    "e = 0\n",
    "s = 0\n",
    "o = 0\n",
    "z = 0\n",
    "\n",
    "while x!=0:\n",
    "    if x>=100:\n",
    "        p = p+1\n",
    "        x = x-100\n",
    "    elif x>=25:\n",
    "        e = e+1\n",
    "        x = x-25\n",
    "    elif x>=10:\n",
    "        s = s+1\n",
    "        x = x-10\n",
    "    elif x>=5:\n",
    "        o = o+1\n",
    "        x = x-5\n",
    "    elif x>=1:\n",
    "        z = z+1\n",
    "        x=x-1\n",
    "print(p,\", 1 peso/s\")\n",
    "print(e, \", 25 cent/s\")\n",
    "print(s, \", 10 cent/s\")\n",
    "print(o,\", 5 cent/s\")\n",
    "print(z, \", 1 cent/s\")\n",
    "  \n",
    "    \n",
    "    \n",
    "    \n",
    "\n",
    "\n"
   ]
  },
  {
   "cell_type": "code",
   "execution_count": null,
   "metadata": {},
   "outputs": [],
   "source": []
  }
 ],
 "metadata": {
  "kernelspec": {
   "display_name": "Python 3",
   "language": "python",
   "name": "python3"
  },
  "language_info": {
   "codemirror_mode": {
    "name": "ipython",
    "version": 3
   },
   "file_extension": ".py",
   "mimetype": "text/x-python",
   "name": "python",
   "nbconvert_exporter": "python",
   "pygments_lexer": "ipython3",
   "version": "3.8.5"
  }
 },
 "nbformat": 4,
 "nbformat_minor": 4
}
